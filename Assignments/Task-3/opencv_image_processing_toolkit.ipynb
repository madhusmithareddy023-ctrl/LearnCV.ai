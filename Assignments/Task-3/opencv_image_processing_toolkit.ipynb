{
  "cells": [
    {
      "cell_type": "markdown",
      "metadata": {},
      "source": [
        "# OpenCV Image Processing Toolkit - Code Walkthrough\n",
        "\n",
        "This notebook provides a detailed explanation of the **Image Processing Toolkit** application built using **Streamlit** and **OpenCV**.  \n",
        "It breaks down the source code into logical sections and explains the functionality of each part.\n",
        "\n",
        "---\n",
        "\n",
        "## Table of Contents\n",
        "1. [Project Overview](#overview)\n",
        "2. [Dependencies and Setup](#dependencies)\n",
        "3. [Application Configuration](#config)\n",
        "4. [Core Workflow Diagram](#workflow)\n",
        "5. [Code Structure](#structure)\n",
        "6. [Core Functionalities](#functions)\n",
        "7. [User Interface Implementation](#ui)\n",
        "8. [Key Features](#features)\n",
        "9. [Code Quality and Best Practices](#quality)\n",
        "10. [Running the Application](#run)\n",
        "\n",
        "---"
      ]
    },
    {
      "cell_type": "markdown",
      "metadata": {},
      "source": [
        "## 1. Project Overview <a name=\"overview\"></a>\n",
        "\n",
        "The **Image Processing Toolkit** is a web-based application that allows users to:\n",
        "- Upload images\n",
        "- Apply image processing operations\n",
        "- View processed results\n",
        "- Save the output\n",
        "\n",
        "It combines:\n",
        "- **Streamlit** \u2192 Web interface  \n",
        "- **OpenCV** \u2192 Image processing backend  \n",
        "- **NumPy** \u2192 Mathematical operations  \n",
        "- **PIL** \u2192 Image handling  \n"
      ]
    },
    {
      "cell_type": "markdown",
      "metadata": {},
      "source": [
        "## 2. Dependencies and Setup <a name=\"dependencies\"></a>\n",
        "\n",
        "```python\n",
        "import streamlit as st      # Web framework\n",
        "import cv2                  # OpenCV for processing\n",
        "import numpy as np          # Numerical operations\n",
        "from PIL import Image       # Image file support\n",
        "import io                   # File input/output\n",
        "import os                   # File path handling\n",
        "```\n",
        "\n",
        "### Purpose of Libraries:\n",
        "- \ud83c\udf10 **Streamlit** \u2192 Creates the interactive UI  \n",
        "- \ud83d\uddbc\ufe0f **OpenCV** \u2192 Handles core image processing  \n",
        "- \ud83d\udd22 **NumPy** \u2192 Array & mathematical operations  \n",
        "- \ud83d\udcf8 **PIL** \u2192 Converts uploaded images  \n",
        "- \ud83d\udcc2 **io/os** \u2192 File handling and in-memory I/O  \n"
      ]
    },
    {
      "cell_type": "markdown",
      "metadata": {},
      "source": [
        "## 3. Application Configuration <a name=\"config\"></a>\n",
        "\n",
        "```python\n",
        "st.set_page_config(\n",
        "    page_title=\"Image Processing Toolkit\",\n",
        "    layout=\"wide\"\n",
        ")\n",
        "```\n",
        "\n",
        "\u2705 This sets:\n",
        "- Page title in the browser  \n",
        "- Full-width layout  \n"
      ]
    },
    {
      "cell_type": "markdown",
      "metadata": {},
      "source": [
        "## 4. Core Workflow Diagram <a name=\"workflow\"></a>\n",
        "\n",
        "The system follows a **sequential workflow**:\n",
        "\n",
        "```\n",
        "   \u250c\u2500\u2500\u2500\u2500\u2500\u2500\u2500\u2500\u2500\u2500\u2500\u2510\n",
        "   \u2502   Upload  \u2502\n",
        "   \u2514\u2500\u2500\u2500\u2500\u2500\u252c\u2500\u2500\u2500\u2500\u2500\u2518\n",
        "         \u2502\n",
        "         \u25bc\n",
        "   \u250c\u2500\u2500\u2500\u2500\u2500\u2500\u2500\u2500\u2500\u2500\u2500\u2510\n",
        "   \u2502  Process  \u2502\n",
        "   \u2514\u2500\u2500\u2500\u2500\u2500\u252c\u2500\u2500\u2500\u2500\u2500\u2518\n",
        "         \u2502\n",
        "         \u25bc\n",
        "   \u250c\u2500\u2500\u2500\u2500\u2500\u2500\u2500\u2500\u2500\u2500\u2500\u2510\n",
        "   \u2502  Display  \u2502\n",
        "   \u2514\u2500\u2500\u2500\u2500\u2500\u252c\u2500\u2500\u2500\u2500\u2500\u2518\n",
        "         \u2502\n",
        "         \u25bc\n",
        "   \u250c\u2500\u2500\u2500\u2500\u2500\u2500\u2500\u2500\u2500\u2500\u2500\u2510\n",
        "   \u2502   Save    \u2502\n",
        "   \u2514\u2500\u2500\u2500\u2500\u2500\u2500\u2500\u2500\u2500\u2500\u2500\u2518\n",
        "```\n"
      ]
    },
    {
      "cell_type": "markdown",
      "metadata": {},
      "source": [
        "## 5. Code Structure <a name=\"structure\"></a>\n",
        "\n",
        "The code is structured into **functional blocks**:\n",
        "\n",
        "1. **Image Upload**  \n",
        "2. **Image Processing**  \n",
        "3. **Result Display**  \n",
        "4. **Save Option**  \n"
      ]
    },
    {
      "cell_type": "markdown",
      "metadata": {},
      "source": [
        "## 6. Core Functionalities <a name=\"functions\"></a>\n",
        "\n",
        "### Image Upload\n",
        "```python\n",
        "uploaded_file = st.file_uploader(\"Upload an image\", type=[\"jpg\", \"jpeg\", \"png\"])\n",
        "```\n",
        "\n",
        "Allows users to upload supported image formats.\n",
        "\n",
        "---\n",
        "\n",
        "### Image Processing\n",
        "Uses **OpenCV + NumPy** operations for:\n",
        "- Grayscale conversion  \n",
        "- Blurring  \n",
        "- Edge detection  \n",
        "\n",
        "Example:\n",
        "```python\n",
        "if uploaded_file is not None:\n",
        "    image = Image.open(uploaded_file)\n",
        "    img_array = np.array(image)\n",
        "\n",
        "    gray = cv2.cvtColor(img_array, cv2.COLOR_RGB2GRAY)\n",
        "    blur = cv2.GaussianBlur(img_array, (5,5), 0)\n",
        "    edges = cv2.Canny(img_array, 100, 200)\n",
        "```\n"
      ]
    },
    {
      "cell_type": "markdown",
      "metadata": {},
      "source": [
        "### Display Results\n",
        "```python\n",
        "st.image(image, caption=\"Uploaded Image\", use_container_width=True)\n",
        "st.image(gray, caption=\"Grayscale Image\", use_container_width=True)\n",
        "st.image(blur, caption=\"Blurred Image\", use_container_width=True)\n",
        "st.image(edges, caption=\"Edge Detection\", use_container_width=True)\n",
        "```\n",
        "\n",
        "Shows original and processed images side-by-side.\n",
        "\n",
        "---\n",
        "\n",
        "### Save Processed Image\n",
        "```python\n",
        "result, buffer = cv2.imencode('.png', edges)\n",
        "st.download_button(\n",
        "    label=\"Download Result\",\n",
        "    data=buffer.tobytes(),\n",
        "    file_name=\"processed.png\",\n",
        "    mime=\"image/png\"\n",
        ")\n",
        "```\n",
        "\n",
        "Lets the user **download processed images**.\n"
      ]
    },
    {
      "cell_type": "markdown",
      "metadata": {},
      "source": [
        "## 7. User Interface Implementation <a name=\"ui\"></a>\n",
        "\n",
        "- **Sidebar** \u2192 For image upload & settings  \n",
        "- **Main Area** \u2192 Displays original and processed images  \n",
        "- **Download Button** \u2192 Saves results  \n",
        "\n",
        "Streamlit ensures **real-time updates** on parameter changes.\n"
      ]
    },
    {
      "cell_type": "markdown",
      "metadata": {},
      "source": [
        "## 8. Key Features <a name=\"features\"></a>\n",
        "\n",
        "- \ud83d\uddbc\ufe0f **Multiple image operations** (grayscale, blur, edge detection)  \n",
        "- \ud83c\udf10 **Web-based, no installation needed for users**  \n",
        "- \u26a1 **Real-time preview** of results  \n",
        "- \ud83d\udcbe **Download processed images**  \n"
      ]
    },
    {
      "cell_type": "markdown",
      "metadata": {},
      "source": [
        "## 9. Code Quality and Best Practices <a name=\"quality\"></a>\n",
        "\n",
        "\u2705 **Strengths**:\n",
        "- Clear modular design  \n",
        "- Uses Streamlit session state correctly  \n",
        "- Efficient OpenCV functions  \n",
        "- Easy to extend  \n",
        "\n",
        "\ud83d\udd27 **Improvements**:\n",
        "- Add error handling for invalid uploads  \n",
        "- Expand operations (contrast, sharpen, color filters)  \n",
        "- Add unit tests  \n"
      ]
    },
    {
      "cell_type": "markdown",
      "metadata": {},
      "source": [
        "## 10. Running the Application <a name=\"run\"></a>\n",
        "\n",
        "### Install Dependencies\n",
        "```bash\n",
        "pip install streamlit opencv-python pillow numpy\n",
        "```\n",
        "\n",
        "### Run App\n",
        "```bash\n",
        "streamlit run app.py\n",
        "```\n",
        "\n",
        "Open in browser at:  \n",
        "\ud83d\udc49 `http://localhost:8501`\n",
        "\n",
        "---\n",
        "\n",
        "## Conclusion\n",
        "\n",
        "The **Image Processing Toolkit** demonstrates how to combine **Streamlit** and **OpenCV** to build an interactive, browser-based image processing app.  \n",
        "\n",
        "- Simple but extendable architecture  \n",
        "- Clean UI with real-time feedback  \n",
        "- Great for learning and quick prototyping  \n",
        "\n",
        "---\n"
      ]
    }
  ],
  "metadata": {
    "kernelspec": {
      "display_name": "Python 3",
      "language": "python",
      "name": "python3"
    },
    "language_info": {
      "name": "python",
      "version": "3.10"
    }
  },
  "nbformat": 4,
  "nbformat_minor": 5
}